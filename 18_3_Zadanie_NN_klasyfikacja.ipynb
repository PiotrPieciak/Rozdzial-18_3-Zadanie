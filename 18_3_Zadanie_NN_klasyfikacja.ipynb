{
 "cells": [
  {
   "cell_type": "markdown",
   "id": "787cecd2-699a-43e5-984e-7a8bb89c8c48",
   "metadata": {},
   "source": [
    "# 18.3 Zadanie - model klasyfikacji"
   ]
  },
  {
   "cell_type": "markdown",
   "id": "60a5ea65-034d-4cb2-a77e-5c731309d4f5",
   "metadata": {},
   "source": [
    "#### import niezbednych bibliotek"
   ]
  },
  {
   "cell_type": "code",
   "execution_count": 1,
   "id": "c222c416-eee1-4ec3-a2b3-63cf4eec4c11",
   "metadata": {},
   "outputs": [],
   "source": [
    "import tensorflow as tf\n",
    "from sklearn.datasets import load_iris\n",
    "from sklearn.model_selection import train_test_split"
   ]
  },
  {
   "cell_type": "markdown",
   "id": "df20532f-cc8d-47b5-8d96-3c3384e17045",
   "metadata": {},
   "source": [
    "#### Definiujemy naszego własnego prywatnego schedulera"
   ]
  },
  {
   "cell_type": "code",
   "execution_count": 2,
   "id": "a8d3ee01-d362-4357-ab04-2c109066a85a",
   "metadata": {},
   "outputs": [],
   "source": [
    "def const_scheduler(epoch):\n",
    "    if epoch < 10:\n",
    "          return 0.05\n",
    "    elif epoch < 20:\n",
    "          return 0.005\n",
    "    else:\n",
    "          return 0.0005"
   ]
  },
  {
   "cell_type": "markdown",
   "id": "40174fcc-de5f-455e-90f3-76b1f7f3d768",
   "metadata": {},
   "source": [
    "#### przypisujemy dane do zmiennej iris a nastepnie rozdzielamy na X i y. Następnie rozdzielamy zbiór na treningowy i testowy"
   ]
  },
  {
   "cell_type": "code",
   "execution_count": 3,
   "id": "f1cc8a59-aaf5-4655-985f-32e9ee1df53c",
   "metadata": {},
   "outputs": [],
   "source": [
    "iris = load_iris()\n",
    "X = iris.data  \n",
    "y = iris.target.reshape(-1,1)\n",
    "X_train, X_test, y_train, y_test = train_test_split(X, y, test_size=0.3, random_state=42)"
   ]
  },
  {
   "cell_type": "markdown",
   "id": "634e13d7-ea76-41a0-96c1-55f8c7d47c88",
   "metadata": {},
   "source": [
    "#### Budujemy model sieci neuronowej, wybieramy warstwe Dense, gdyż używa się jej do klasyfikacji. Metode aktywacji dla ostatniej warstwy wybieramy softmax - znowy ze względu na klasyfikacje wieloklasową"
   ]
  },
  {
   "cell_type": "code",
   "execution_count": 4,
   "id": "eb28ca4f-9bea-4082-901f-e1084e0b9da1",
   "metadata": {},
   "outputs": [
    {
     "name": "stderr",
     "output_type": "stream",
     "text": [
      "C:\\Users\\piotr\\anaconda3\\envs\\condaenv4\\Lib\\site-packages\\keras\\src\\layers\\core\\dense.py:87: UserWarning: Do not pass an `input_shape`/`input_dim` argument to a layer. When using Sequential models, prefer using an `Input(shape)` object as the first layer in the model instead.\n",
      "  super().__init__(activity_regularizer=activity_regularizer, **kwargs)\n"
     ]
    }
   ],
   "source": [
    "model = tf.keras.models.Sequential([\n",
    "    tf.keras.layers.Dense(8, input_shape=(4, ), activation='relu'),  \n",
    "    tf.keras.layers.Dense(8, activation='relu'),                    \n",
    "    tf.keras.layers.Dense(3, activation='softmax')                   \n",
    "])"
   ]
  },
  {
   "cell_type": "markdown",
   "id": "b8503315-71dd-4ce1-8f95-08176888e3c0",
   "metadata": {},
   "source": [
    "#### Kompilujemy nasz model na standarowym optimizerze i z loss function \"sparse_categorical_crossentropy\", gdyż nie używaliśmy OneHotEncoder na Y "
   ]
  },
  {
   "cell_type": "code",
   "execution_count": 5,
   "id": "79cf5bb2-b79c-4d7d-98c1-4f5d1a085662",
   "metadata": {},
   "outputs": [],
   "source": [
    "model.compile(optimizer='adam',\n",
    "              loss='sparse_categorical_crossentropy',\n",
    "              metrics=['accuracy'])"
   ]
  },
  {
   "cell_type": "markdown",
   "id": "b9988191-4f4f-40f1-8ff3-5a3741a708b2",
   "metadata": {},
   "source": [
    "#### Trenujemy nasz model i odczytujemy wynik"
   ]
  },
  {
   "cell_type": "code",
   "execution_count": 6,
   "id": "5708cfad-b415-4e10-af09-dda65c61509b",
   "metadata": {},
   "outputs": [
    {
     "name": "stdout",
     "output_type": "stream",
     "text": [
      "Epoch 1/50\n",
      "\u001b[1m6/6\u001b[0m \u001b[32m━━━━━━━━━━━━━━━━━━━━\u001b[0m\u001b[37m\u001b[0m \u001b[1m1s\u001b[0m 40ms/step - accuracy: 0.2766 - loss: 1.3328 - val_accuracy: 0.5714 - val_loss: 0.7423 - learning_rate: 0.0500\n",
      "Epoch 2/50\n",
      "\u001b[1m6/6\u001b[0m \u001b[32m━━━━━━━━━━━━━━━━━━━━\u001b[0m\u001b[37m\u001b[0m \u001b[1m0s\u001b[0m 8ms/step - accuracy: 0.4098 - loss: 0.9511 - val_accuracy: 0.6667 - val_loss: 0.5357 - learning_rate: 0.0500\n",
      "Epoch 3/50\n",
      "\u001b[1m6/6\u001b[0m \u001b[32m━━━━━━━━━━━━━━━━━━━━\u001b[0m\u001b[37m\u001b[0m \u001b[1m0s\u001b[0m 8ms/step - accuracy: 0.8344 - loss: 0.4599 - val_accuracy: 0.9524 - val_loss: 0.3362 - learning_rate: 0.0500\n",
      "Epoch 4/50\n",
      "\u001b[1m6/6\u001b[0m \u001b[32m━━━━━━━━━━━━━━━━━━━━\u001b[0m\u001b[37m\u001b[0m \u001b[1m0s\u001b[0m 8ms/step - accuracy: 0.8831 - loss: 0.3182 - val_accuracy: 1.0000 - val_loss: 0.1684 - learning_rate: 0.0500\n",
      "Epoch 5/50\n",
      "\u001b[1m6/6\u001b[0m \u001b[32m━━━━━━━━━━━━━━━━━━━━\u001b[0m\u001b[37m\u001b[0m \u001b[1m0s\u001b[0m 9ms/step - accuracy: 0.8732 - loss: 0.2708 - val_accuracy: 0.5238 - val_loss: 0.7024 - learning_rate: 0.0500\n",
      "Epoch 6/50\n",
      "\u001b[1m6/6\u001b[0m \u001b[32m━━━━━━━━━━━━━━━━━━━━\u001b[0m\u001b[37m\u001b[0m \u001b[1m0s\u001b[0m 8ms/step - accuracy: 0.7770 - loss: 0.3843 - val_accuracy: 0.9524 - val_loss: 0.1514 - learning_rate: 0.0500\n",
      "Epoch 7/50\n",
      "\u001b[1m6/6\u001b[0m \u001b[32m━━━━━━━━━━━━━━━━━━━━\u001b[0m\u001b[37m\u001b[0m \u001b[1m0s\u001b[0m 8ms/step - accuracy: 0.8679 - loss: 0.3451 - val_accuracy: 0.9048 - val_loss: 0.1951 - learning_rate: 0.0500\n",
      "Epoch 8/50\n",
      "\u001b[1m6/6\u001b[0m \u001b[32m━━━━━━━━━━━━━━━━━━━━\u001b[0m\u001b[37m\u001b[0m \u001b[1m0s\u001b[0m 9ms/step - accuracy: 0.7518 - loss: 0.4398 - val_accuracy: 0.8571 - val_loss: 0.2929 - learning_rate: 0.0500\n",
      "Epoch 9/50\n",
      "\u001b[1m6/6\u001b[0m \u001b[32m━━━━━━━━━━━━━━━━━━━━\u001b[0m\u001b[37m\u001b[0m \u001b[1m0s\u001b[0m 7ms/step - accuracy: 0.8904 - loss: 0.2469 - val_accuracy: 1.0000 - val_loss: 0.1974 - learning_rate: 0.0500\n",
      "Epoch 10/50\n",
      "\u001b[1m6/6\u001b[0m \u001b[32m━━━━━━━━━━━━━━━━━━━━\u001b[0m\u001b[37m\u001b[0m \u001b[1m0s\u001b[0m 8ms/step - accuracy: 0.8181 - loss: 0.3491 - val_accuracy: 1.0000 - val_loss: 0.1934 - learning_rate: 0.0500\n",
      "Epoch 11/50\n",
      "\u001b[1m6/6\u001b[0m \u001b[32m━━━━━━━━━━━━━━━━━━━━\u001b[0m\u001b[37m\u001b[0m \u001b[1m0s\u001b[0m 7ms/step - accuracy: 0.9349 - loss: 0.2196 - val_accuracy: 1.0000 - val_loss: 0.1825 - learning_rate: 0.0050\n",
      "Epoch 12/50\n",
      "\u001b[1m6/6\u001b[0m \u001b[32m━━━━━━━━━━━━━━━━━━━━\u001b[0m\u001b[37m\u001b[0m \u001b[1m0s\u001b[0m 8ms/step - accuracy: 0.9894 - loss: 0.1896 - val_accuracy: 0.9524 - val_loss: 0.1997 - learning_rate: 0.0050\n",
      "Epoch 13/50\n",
      "\u001b[1m6/6\u001b[0m \u001b[32m━━━━━━━━━━━━━━━━━━━━\u001b[0m\u001b[37m\u001b[0m \u001b[1m0s\u001b[0m 9ms/step - accuracy: 0.9550 - loss: 0.1684 - val_accuracy: 0.9524 - val_loss: 0.2021 - learning_rate: 0.0050\n",
      "Epoch 14/50\n",
      "\u001b[1m6/6\u001b[0m \u001b[32m━━━━━━━━━━━━━━━━━━━━\u001b[0m\u001b[37m\u001b[0m \u001b[1m0s\u001b[0m 7ms/step - accuracy: 0.9465 - loss: 0.1739 - val_accuracy: 1.0000 - val_loss: 0.1606 - learning_rate: 0.0050\n",
      "Epoch 15/50\n",
      "\u001b[1m6/6\u001b[0m \u001b[32m━━━━━━━━━━━━━━━━━━━━\u001b[0m\u001b[37m\u001b[0m \u001b[1m0s\u001b[0m 9ms/step - accuracy: 0.9725 - loss: 0.1474 - val_accuracy: 1.0000 - val_loss: 0.1364 - learning_rate: 0.0050\n",
      "Epoch 16/50\n",
      "\u001b[1m6/6\u001b[0m \u001b[32m━━━━━━━━━━━━━━━━━━━━\u001b[0m\u001b[37m\u001b[0m \u001b[1m0s\u001b[0m 9ms/step - accuracy: 0.9539 - loss: 0.1802 - val_accuracy: 1.0000 - val_loss: 0.1286 - learning_rate: 0.0050\n",
      "Epoch 17/50\n",
      "\u001b[1m6/6\u001b[0m \u001b[32m━━━━━━━━━━━━━━━━━━━━\u001b[0m\u001b[37m\u001b[0m \u001b[1m0s\u001b[0m 10ms/step - accuracy: 0.9696 - loss: 0.1578 - val_accuracy: 1.0000 - val_loss: 0.1224 - learning_rate: 0.0050\n",
      "Epoch 18/50\n",
      "\u001b[1m6/6\u001b[0m \u001b[32m━━━━━━━━━━━━━━━━━━━━\u001b[0m\u001b[37m\u001b[0m \u001b[1m0s\u001b[0m 9ms/step - accuracy: 0.9844 - loss: 0.1453 - val_accuracy: 1.0000 - val_loss: 0.1194 - learning_rate: 0.0050\n",
      "Epoch 19/50\n",
      "\u001b[1m6/6\u001b[0m \u001b[32m━━━━━━━━━━━━━━━━━━━━\u001b[0m\u001b[37m\u001b[0m \u001b[1m0s\u001b[0m 8ms/step - accuracy: 0.9651 - loss: 0.1592 - val_accuracy: 0.9524 - val_loss: 0.1247 - learning_rate: 0.0050\n",
      "Epoch 20/50\n",
      "\u001b[1m6/6\u001b[0m \u001b[32m━━━━━━━━━━━━━━━━━━━━\u001b[0m\u001b[37m\u001b[0m \u001b[1m0s\u001b[0m 8ms/step - accuracy: 0.9286 - loss: 0.1712 - val_accuracy: 1.0000 - val_loss: 0.1178 - learning_rate: 0.0050\n",
      "Epoch 21/50\n",
      "\u001b[1m6/6\u001b[0m \u001b[32m━━━━━━━━━━━━━━━━━━━━\u001b[0m\u001b[37m\u001b[0m \u001b[1m0s\u001b[0m 9ms/step - accuracy: 0.9624 - loss: 0.1409 - val_accuracy: 1.0000 - val_loss: 0.1180 - learning_rate: 5.0000e-04\n",
      "Epoch 22/50\n",
      "\u001b[1m6/6\u001b[0m \u001b[32m━━━━━━━━━━━━━━━━━━━━\u001b[0m\u001b[37m\u001b[0m \u001b[1m0s\u001b[0m 9ms/step - accuracy: 0.9658 - loss: 0.1584 - val_accuracy: 1.0000 - val_loss: 0.1162 - learning_rate: 5.0000e-04\n",
      "Epoch 23/50\n",
      "\u001b[1m6/6\u001b[0m \u001b[32m━━━━━━━━━━━━━━━━━━━━\u001b[0m\u001b[37m\u001b[0m \u001b[1m0s\u001b[0m 8ms/step - accuracy: 0.9758 - loss: 0.1348 - val_accuracy: 1.0000 - val_loss: 0.1143 - learning_rate: 5.0000e-04\n",
      "Epoch 24/50\n",
      "\u001b[1m6/6\u001b[0m \u001b[32m━━━━━━━━━━━━━━━━━━━━\u001b[0m\u001b[37m\u001b[0m \u001b[1m0s\u001b[0m 8ms/step - accuracy: 0.9539 - loss: 0.1380 - val_accuracy: 1.0000 - val_loss: 0.1164 - learning_rate: 5.0000e-04\n",
      "Epoch 25/50\n",
      "\u001b[1m6/6\u001b[0m \u001b[32m━━━━━━━━━━━━━━━━━━━━\u001b[0m\u001b[37m\u001b[0m \u001b[1m0s\u001b[0m 8ms/step - accuracy: 0.9743 - loss: 0.1394 - val_accuracy: 1.0000 - val_loss: 0.1153 - learning_rate: 5.0000e-04\n",
      "Epoch 26/50\n",
      "\u001b[1m6/6\u001b[0m \u001b[32m━━━━━━━━━━━━━━━━━━━━\u001b[0m\u001b[37m\u001b[0m \u001b[1m0s\u001b[0m 8ms/step - accuracy: 0.9800 - loss: 0.1257 - val_accuracy: 1.0000 - val_loss: 0.1152 - learning_rate: 5.0000e-04\n",
      "Epoch 27/50\n",
      "\u001b[1m6/6\u001b[0m \u001b[32m━━━━━━━━━━━━━━━━━━━━\u001b[0m\u001b[37m\u001b[0m \u001b[1m0s\u001b[0m 8ms/step - accuracy: 0.9465 - loss: 0.1513 - val_accuracy: 1.0000 - val_loss: 0.1128 - learning_rate: 5.0000e-04\n",
      "Epoch 28/50\n",
      "\u001b[1m6/6\u001b[0m \u001b[32m━━━━━━━━━━━━━━━━━━━━\u001b[0m\u001b[37m\u001b[0m \u001b[1m0s\u001b[0m 8ms/step - accuracy: 0.9636 - loss: 0.1423 - val_accuracy: 1.0000 - val_loss: 0.1101 - learning_rate: 5.0000e-04\n",
      "Epoch 29/50\n",
      "\u001b[1m6/6\u001b[0m \u001b[32m━━━━━━━━━━━━━━━━━━━━\u001b[0m\u001b[37m\u001b[0m \u001b[1m0s\u001b[0m 8ms/step - accuracy: 0.9696 - loss: 0.1371 - val_accuracy: 1.0000 - val_loss: 0.1092 - learning_rate: 5.0000e-04\n",
      "Epoch 30/50\n",
      "\u001b[1m6/6\u001b[0m \u001b[32m━━━━━━━━━━━━━━━━━━━━\u001b[0m\u001b[37m\u001b[0m \u001b[1m0s\u001b[0m 7ms/step - accuracy: 0.9725 - loss: 0.1274 - val_accuracy: 1.0000 - val_loss: 0.1073 - learning_rate: 5.0000e-04\n",
      "Epoch 31/50\n",
      "\u001b[1m6/6\u001b[0m \u001b[32m━━━━━━━━━━━━━━━━━━━━\u001b[0m\u001b[37m\u001b[0m \u001b[1m0s\u001b[0m 8ms/step - accuracy: 0.9636 - loss: 0.1314 - val_accuracy: 1.0000 - val_loss: 0.1063 - learning_rate: 5.0000e-04\n",
      "Epoch 32/50\n",
      "\u001b[1m6/6\u001b[0m \u001b[32m━━━━━━━━━━━━━━━━━━━━\u001b[0m\u001b[37m\u001b[0m \u001b[1m0s\u001b[0m 8ms/step - accuracy: 0.9766 - loss: 0.1318 - val_accuracy: 1.0000 - val_loss: 0.1059 - learning_rate: 5.0000e-04\n",
      "Epoch 33/50\n",
      "\u001b[1m6/6\u001b[0m \u001b[32m━━━━━━━━━━━━━━━━━━━━\u001b[0m\u001b[37m\u001b[0m \u001b[1m0s\u001b[0m 7ms/step - accuracy: 0.9510 - loss: 0.1441 - val_accuracy: 1.0000 - val_loss: 0.1036 - learning_rate: 5.0000e-04\n",
      "Epoch 34/50\n",
      "\u001b[1m6/6\u001b[0m \u001b[32m━━━━━━━━━━━━━━━━━━━━\u001b[0m\u001b[37m\u001b[0m \u001b[1m0s\u001b[0m 9ms/step - accuracy: 0.9663 - loss: 0.1409 - val_accuracy: 1.0000 - val_loss: 0.1027 - learning_rate: 5.0000e-04\n",
      "Epoch 35/50\n",
      "\u001b[1m6/6\u001b[0m \u001b[32m━━━━━━━━━━━━━━━━━━━━\u001b[0m\u001b[37m\u001b[0m \u001b[1m0s\u001b[0m 8ms/step - accuracy: 0.9610 - loss: 0.1288 - val_accuracy: 1.0000 - val_loss: 0.1012 - learning_rate: 5.0000e-04\n",
      "Epoch 36/50\n",
      "\u001b[1m6/6\u001b[0m \u001b[32m━━━━━━━━━━━━━━━━━━━━\u001b[0m\u001b[37m\u001b[0m \u001b[1m0s\u001b[0m 8ms/step - accuracy: 0.9703 - loss: 0.1292 - val_accuracy: 1.0000 - val_loss: 0.1028 - learning_rate: 5.0000e-04\n",
      "Epoch 37/50\n",
      "\u001b[1m6/6\u001b[0m \u001b[32m━━━━━━━━━━━━━━━━━━━━\u001b[0m\u001b[37m\u001b[0m \u001b[1m0s\u001b[0m 8ms/step - accuracy: 0.9472 - loss: 0.1616 - val_accuracy: 1.0000 - val_loss: 0.1039 - learning_rate: 5.0000e-04\n",
      "Epoch 38/50\n",
      "\u001b[1m6/6\u001b[0m \u001b[32m━━━━━━━━━━━━━━━━━━━━\u001b[0m\u001b[37m\u001b[0m \u001b[1m0s\u001b[0m 8ms/step - accuracy: 0.9580 - loss: 0.1415 - val_accuracy: 1.0000 - val_loss: 0.1039 - learning_rate: 5.0000e-04\n",
      "Epoch 39/50\n",
      "\u001b[1m6/6\u001b[0m \u001b[32m━━━━━━━━━━━━━━━━━━━━\u001b[0m\u001b[37m\u001b[0m \u001b[1m0s\u001b[0m 7ms/step - accuracy: 0.9673 - loss: 0.1333 - val_accuracy: 1.0000 - val_loss: 0.1055 - learning_rate: 5.0000e-04\n",
      "Epoch 40/50\n",
      "\u001b[1m6/6\u001b[0m \u001b[32m━━━━━━━━━━━━━━━━━━━━\u001b[0m\u001b[37m\u001b[0m \u001b[1m0s\u001b[0m 8ms/step - accuracy: 0.9617 - loss: 0.1359 - val_accuracy: 1.0000 - val_loss: 0.1086 - learning_rate: 5.0000e-04\n",
      "Epoch 41/50\n",
      "\u001b[1m6/6\u001b[0m \u001b[32m━━━━━━━━━━━━━━━━━━━━\u001b[0m\u001b[37m\u001b[0m \u001b[1m0s\u001b[0m 8ms/step - accuracy: 0.9539 - loss: 0.1487 - val_accuracy: 1.0000 - val_loss: 0.1099 - learning_rate: 5.0000e-04\n",
      "Epoch 42/50\n",
      "\u001b[1m6/6\u001b[0m \u001b[32m━━━━━━━━━━━━━━━━━━━━\u001b[0m\u001b[37m\u001b[0m \u001b[1m0s\u001b[0m 8ms/step - accuracy: 0.9673 - loss: 0.1190 - val_accuracy: 1.0000 - val_loss: 0.1077 - learning_rate: 5.0000e-04\n",
      "Epoch 43/50\n",
      "\u001b[1m6/6\u001b[0m \u001b[32m━━━━━━━━━━━━━━━━━━━━\u001b[0m\u001b[37m\u001b[0m \u001b[1m0s\u001b[0m 8ms/step - accuracy: 0.9696 - loss: 0.1183 - val_accuracy: 1.0000 - val_loss: 0.1073 - learning_rate: 5.0000e-04\n",
      "Epoch 44/50\n",
      "\u001b[1m6/6\u001b[0m \u001b[32m━━━━━━━━━━━━━━━━━━━━\u001b[0m\u001b[37m\u001b[0m \u001b[1m0s\u001b[0m 9ms/step - accuracy: 0.9584 - loss: 0.1396 - val_accuracy: 1.0000 - val_loss: 0.1073 - learning_rate: 5.0000e-04\n",
      "Epoch 45/50\n",
      "\u001b[1m6/6\u001b[0m \u001b[32m━━━━━━━━━━━━━━━━━━━━\u001b[0m\u001b[37m\u001b[0m \u001b[1m0s\u001b[0m 8ms/step - accuracy: 0.9810 - loss: 0.1232 - val_accuracy: 1.0000 - val_loss: 0.1050 - learning_rate: 5.0000e-04\n",
      "Epoch 46/50\n",
      "\u001b[1m6/6\u001b[0m \u001b[32m━━━━━━━━━━━━━━━━━━━━\u001b[0m\u001b[37m\u001b[0m \u001b[1m0s\u001b[0m 9ms/step - accuracy: 0.9758 - loss: 0.1049 - val_accuracy: 1.0000 - val_loss: 0.1070 - learning_rate: 5.0000e-04\n",
      "Epoch 47/50\n",
      "\u001b[1m6/6\u001b[0m \u001b[32m━━━━━━━━━━━━━━━━━━━━\u001b[0m\u001b[37m\u001b[0m \u001b[1m0s\u001b[0m 9ms/step - accuracy: 0.9874 - loss: 0.1180 - val_accuracy: 0.9524 - val_loss: 0.1100 - learning_rate: 5.0000e-04\n",
      "Epoch 48/50\n",
      "\u001b[1m6/6\u001b[0m \u001b[32m━━━━━━━━━━━━━━━━━━━━\u001b[0m\u001b[37m\u001b[0m \u001b[1m0s\u001b[0m 8ms/step - accuracy: 0.9852 - loss: 0.1247 - val_accuracy: 0.9524 - val_loss: 0.1101 - learning_rate: 5.0000e-04\n",
      "Epoch 49/50\n",
      "\u001b[1m6/6\u001b[0m \u001b[32m━━━━━━━━━━━━━━━━━━━━\u001b[0m\u001b[37m\u001b[0m \u001b[1m0s\u001b[0m 7ms/step - accuracy: 0.9862 - loss: 0.1278 - val_accuracy: 0.9524 - val_loss: 0.1101 - learning_rate: 5.0000e-04\n",
      "Epoch 50/50\n",
      "\u001b[1m6/6\u001b[0m \u001b[32m━━━━━━━━━━━━━━━━━━━━\u001b[0m\u001b[37m\u001b[0m \u001b[1m0s\u001b[0m 8ms/step - accuracy: 0.9788 - loss: 0.1322 - val_accuracy: 0.9524 - val_loss: 0.1108 - learning_rate: 5.0000e-04\n",
      "\u001b[1m2/2\u001b[0m \u001b[32m━━━━━━━━━━━━━━━━━━━━\u001b[0m\u001b[37m\u001b[0m \u001b[1m0s\u001b[0m 4ms/step - accuracy: 1.0000 - loss: 0.0965 \n",
      "Test Accuracy: 1.0\n"
     ]
    }
   ],
   "source": [
    "history = model.fit(X_train, y_train, epochs=50, batch_size=16, validation_split=0.2,\n",
    "    callbacks=[\n",
    "        tf.keras.callbacks.LearningRateScheduler(const_scheduler)\n",
    "    ])\n",
    "\n",
    "test_loss, test_accuracy = model.evaluate(X_test, y_test)\n",
    "print('Test Accuracy:', test_accuracy)"
   ]
  },
  {
   "cell_type": "raw",
   "id": "b34a55f8-b289-4d12-93bf-73b7f6829304",
   "metadata": {},
   "source": [
    "#### Pierwszy model wytrenowany!!! "
   ]
  },
  {
   "cell_type": "code",
   "execution_count": null,
   "id": "615550a7-2977-46b2-a471-e6e7c223d20a",
   "metadata": {},
   "outputs": [],
   "source": []
  }
 ],
 "metadata": {
  "kernelspec": {
   "display_name": "Python 3 (ipykernel)",
   "language": "python",
   "name": "python3"
  },
  "language_info": {
   "codemirror_mode": {
    "name": "ipython",
    "version": 3
   },
   "file_extension": ".py",
   "mimetype": "text/x-python",
   "name": "python",
   "nbconvert_exporter": "python",
   "pygments_lexer": "ipython3",
   "version": "3.12.7"
  }
 },
 "nbformat": 4,
 "nbformat_minor": 5
}
