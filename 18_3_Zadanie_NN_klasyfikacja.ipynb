{
 "cells": [
  {
   "cell_type": "markdown",
   "id": "787cecd2-699a-43e5-984e-7a8bb89c8c48",
   "metadata": {},
   "source": [
    "# 18.3 Zadanie - model klasyfikacji"
   ]
  },
  {
   "cell_type": "markdown",
   "id": "60a5ea65-034d-4cb2-a77e-5c731309d4f5",
   "metadata": {},
   "source": [
    "#### import niezbednych bibliotek"
   ]
  },
  {
   "cell_type": "code",
   "execution_count": 1,
   "id": "c222c416-eee1-4ec3-a2b3-63cf4eec4c11",
   "metadata": {},
   "outputs": [],
   "source": [
    "import tensorflow as tf\n",
    "from sklearn.datasets import load_iris\n",
    "from sklearn.model_selection import train_test_split\n",
    "from sklearn.metrics import classification_report"
   ]
  },
  {
   "cell_type": "markdown",
   "id": "df20532f-cc8d-47b5-8d96-3c3384e17045",
   "metadata": {},
   "source": [
    "#### Definiujemy naszego własnego prywatnego schedulera"
   ]
  },
  {
   "cell_type": "code",
   "execution_count": 2,
   "id": "a8d3ee01-d362-4357-ab04-2c109066a85a",
   "metadata": {},
   "outputs": [],
   "source": [
    "def const_scheduler(epoch):\n",
    "    if epoch < 10:\n",
    "          return 0.05\n",
    "    elif epoch < 20:\n",
    "          return 0.005\n",
    "    else:\n",
    "          return 0.0005"
   ]
  },
  {
   "cell_type": "markdown",
   "id": "40174fcc-de5f-455e-90f3-76b1f7f3d768",
   "metadata": {},
   "source": [
    "#### przypisujemy dane do zmiennej iris a nastepnie rozdzielamy na X i y. Następnie rozdzielamy zbiór na treningowy i testowy"
   ]
  },
  {
   "cell_type": "code",
   "execution_count": 3,
   "id": "f1cc8a59-aaf5-4655-985f-32e9ee1df53c",
   "metadata": {},
   "outputs": [],
   "source": [
    "iris = load_iris()\n",
    "X = iris.data  \n",
    "y = iris.target.reshape(-1,1)\n",
    "X_train, X_test, y_train, y_test = train_test_split(X, y, test_size=0.3, random_state=42, stratify=y )"
   ]
  },
  {
   "cell_type": "markdown",
   "id": "634e13d7-ea76-41a0-96c1-55f8c7d47c88",
   "metadata": {},
   "source": [
    "#### Budujemy model sieci neuronowej, wybieramy warstwe Dense, gdyż używa się jej do klasyfikacji. Metode aktywacji dla ostatniej warstwy wybieramy softmax - znowy ze względu na klasyfikacje wieloklasową"
   ]
  },
  {
   "cell_type": "code",
   "execution_count": 4,
   "id": "eb28ca4f-9bea-4082-901f-e1084e0b9da1",
   "metadata": {},
   "outputs": [
    {
     "name": "stderr",
     "output_type": "stream",
     "text": [
      "C:\\Users\\piotr\\anaconda3\\envs\\condaenv4\\Lib\\site-packages\\keras\\src\\layers\\core\\dense.py:87: UserWarning: Do not pass an `input_shape`/`input_dim` argument to a layer. When using Sequential models, prefer using an `Input(shape)` object as the first layer in the model instead.\n",
      "  super().__init__(activity_regularizer=activity_regularizer, **kwargs)\n"
     ]
    }
   ],
   "source": [
    "model = tf.keras.models.Sequential([\n",
    "    tf.keras.layers.Dense(8, input_shape = (4, ), activation='relu'), \n",
    "    tf.keras.layers.Dense(8, activation='relu'),                    \n",
    "    tf.keras.layers.Dense(3, activation='softmax')                   \n",
    "])"
   ]
  },
  {
   "cell_type": "markdown",
   "id": "b8503315-71dd-4ce1-8f95-08176888e3c0",
   "metadata": {},
   "source": [
    "#### Kompilujemy nasz model na standarowym optimizerze i z loss function \"sparse_categorical_crossentropy\", gdyż nie używaliśmy OneHotEncoder na Y "
   ]
  },
  {
   "cell_type": "code",
   "execution_count": 5,
   "id": "79cf5bb2-b79c-4d7d-98c1-4f5d1a085662",
   "metadata": {},
   "outputs": [],
   "source": [
    "model.compile(optimizer='adam',\n",
    "              loss='sparse_categorical_crossentropy',\n",
    "              metrics=['accuracy'])"
   ]
  },
  {
   "cell_type": "markdown",
   "id": "b9988191-4f4f-40f1-8ff3-5a3741a708b2",
   "metadata": {},
   "source": [
    "#### Trenujemy nasz model i odczytujemy wynik z clasification report"
   ]
  },
  {
   "cell_type": "code",
   "execution_count": 6,
   "id": "5708cfad-b415-4e10-af09-dda65c61509b",
   "metadata": {},
   "outputs": [
    {
     "name": "stdout",
     "output_type": "stream",
     "text": [
      "Epoch 1/50\n",
      "\u001b[1m6/6\u001b[0m \u001b[32m━━━━━━━━━━━━━━━━━━━━\u001b[0m\u001b[37m\u001b[0m \u001b[1m1s\u001b[0m 37ms/step - accuracy: 0.4974 - loss: 1.3836 - val_accuracy: 0.6190 - val_loss: 1.0157 - learning_rate: 0.0500\n",
      "Epoch 2/50\n",
      "\u001b[1m6/6\u001b[0m \u001b[32m━━━━━━━━━━━━━━━━━━━━\u001b[0m\u001b[37m\u001b[0m \u001b[1m0s\u001b[0m 8ms/step - accuracy: 0.4096 - loss: 0.9662 - val_accuracy: 0.9524 - val_loss: 0.7362 - learning_rate: 0.0500\n",
      "Epoch 3/50\n",
      "\u001b[1m6/6\u001b[0m \u001b[32m━━━━━━━━━━━━━━━━━━━━\u001b[0m\u001b[37m\u001b[0m \u001b[1m0s\u001b[0m 8ms/step - accuracy: 0.8176 - loss: 0.6760 - val_accuracy: 0.7619 - val_loss: 0.7093 - learning_rate: 0.0500\n",
      "Epoch 4/50\n",
      "\u001b[1m6/6\u001b[0m \u001b[32m━━━━━━━━━━━━━━━━━━━━\u001b[0m\u001b[37m\u001b[0m \u001b[1m0s\u001b[0m 8ms/step - accuracy: 0.7165 - loss: 0.6919 - val_accuracy: 0.9048 - val_loss: 0.4908 - learning_rate: 0.0500\n",
      "Epoch 5/50\n",
      "\u001b[1m6/6\u001b[0m \u001b[32m━━━━━━━━━━━━━━━━━━━━\u001b[0m\u001b[37m\u001b[0m \u001b[1m0s\u001b[0m 8ms/step - accuracy: 0.9472 - loss: 0.4124 - val_accuracy: 1.0000 - val_loss: 0.3316 - learning_rate: 0.0500\n",
      "Epoch 6/50\n",
      "\u001b[1m6/6\u001b[0m \u001b[32m━━━━━━━━━━━━━━━━━━━━\u001b[0m\u001b[37m\u001b[0m \u001b[1m0s\u001b[0m 8ms/step - accuracy: 0.9285 - loss: 0.3587 - val_accuracy: 1.0000 - val_loss: 0.2485 - learning_rate: 0.0500\n",
      "Epoch 7/50\n",
      "\u001b[1m6/6\u001b[0m \u001b[32m━━━━━━━━━━━━━━━━━━━━\u001b[0m\u001b[37m\u001b[0m \u001b[1m0s\u001b[0m 9ms/step - accuracy: 0.9198 - loss: 0.3098 - val_accuracy: 0.9524 - val_loss: 0.2219 - learning_rate: 0.0500\n",
      "Epoch 8/50\n",
      "\u001b[1m6/6\u001b[0m \u001b[32m━━━━━━━━━━━━━━━━━━━━\u001b[0m\u001b[37m\u001b[0m \u001b[1m0s\u001b[0m 9ms/step - accuracy: 0.9673 - loss: 0.2091 - val_accuracy: 0.9048 - val_loss: 0.3273 - learning_rate: 0.0500\n",
      "Epoch 9/50\n",
      "\u001b[1m6/6\u001b[0m \u001b[32m━━━━━━━━━━━━━━━━━━━━\u001b[0m\u001b[37m\u001b[0m \u001b[1m0s\u001b[0m 10ms/step - accuracy: 0.8864 - loss: 0.2852 - val_accuracy: 0.9048 - val_loss: 0.3076 - learning_rate: 0.0500\n",
      "Epoch 10/50\n",
      "\u001b[1m6/6\u001b[0m \u001b[32m━━━━━━━━━━━━━━━━━━━━\u001b[0m\u001b[37m\u001b[0m \u001b[1m0s\u001b[0m 9ms/step - accuracy: 0.8961 - loss: 0.2559 - val_accuracy: 1.0000 - val_loss: 0.1125 - learning_rate: 0.0500\n",
      "Epoch 11/50\n",
      "\u001b[1m6/6\u001b[0m \u001b[32m━━━━━━━━━━━━━━━━━━━━\u001b[0m\u001b[37m\u001b[0m \u001b[1m0s\u001b[0m 7ms/step - accuracy: 0.9874 - loss: 0.1197 - val_accuracy: 0.9524 - val_loss: 0.1367 - learning_rate: 0.0050\n",
      "Epoch 12/50\n",
      "\u001b[1m6/6\u001b[0m \u001b[32m━━━━━━━━━━━━━━━━━━━━\u001b[0m\u001b[37m\u001b[0m \u001b[1m0s\u001b[0m 8ms/step - accuracy: 0.9584 - loss: 0.1330 - val_accuracy: 0.9524 - val_loss: 0.1106 - learning_rate: 0.0050\n",
      "Epoch 13/50\n",
      "\u001b[1m6/6\u001b[0m \u001b[32m━━━━━━━━━━━━━━━━━━━━\u001b[0m\u001b[37m\u001b[0m \u001b[1m0s\u001b[0m 8ms/step - accuracy: 0.9747 - loss: 0.1281 - val_accuracy: 1.0000 - val_loss: 0.1020 - learning_rate: 0.0050\n",
      "Epoch 14/50\n",
      "\u001b[1m6/6\u001b[0m \u001b[32m━━━━━━━━━━━━━━━━━━━━\u001b[0m\u001b[37m\u001b[0m \u001b[1m0s\u001b[0m 8ms/step - accuracy: 0.9510 - loss: 0.1379 - val_accuracy: 0.9524 - val_loss: 0.1111 - learning_rate: 0.0050\n",
      "Epoch 15/50\n",
      "\u001b[1m6/6\u001b[0m \u001b[32m━━━━━━━━━━━━━━━━━━━━\u001b[0m\u001b[37m\u001b[0m \u001b[1m0s\u001b[0m 8ms/step - accuracy: 0.9688 - loss: 0.1397 - val_accuracy: 0.9524 - val_loss: 0.1122 - learning_rate: 0.0050\n",
      "Epoch 16/50\n",
      "\u001b[1m6/6\u001b[0m \u001b[32m━━━━━━━━━━━━━━━━━━━━\u001b[0m\u001b[37m\u001b[0m \u001b[1m0s\u001b[0m 8ms/step - accuracy: 0.9840 - loss: 0.1098 - val_accuracy: 0.9524 - val_loss: 0.1157 - learning_rate: 0.0050\n",
      "Epoch 17/50\n",
      "\u001b[1m6/6\u001b[0m \u001b[32m━━━━━━━━━━━━━━━━━━━━\u001b[0m\u001b[37m\u001b[0m \u001b[1m0s\u001b[0m 8ms/step - accuracy: 0.9784 - loss: 0.1116 - val_accuracy: 1.0000 - val_loss: 0.0973 - learning_rate: 0.0050\n",
      "Epoch 18/50\n",
      "\u001b[1m6/6\u001b[0m \u001b[32m━━━━━━━━━━━━━━━━━━━━\u001b[0m\u001b[37m\u001b[0m \u001b[1m0s\u001b[0m 9ms/step - accuracy: 0.9580 - loss: 0.1500 - val_accuracy: 1.0000 - val_loss: 0.0938 - learning_rate: 0.0050\n",
      "Epoch 19/50\n",
      "\u001b[1m6/6\u001b[0m \u001b[32m━━━━━━━━━━━━━━━━━━━━\u001b[0m\u001b[37m\u001b[0m \u001b[1m0s\u001b[0m 8ms/step - accuracy: 0.9510 - loss: 0.1576 - val_accuracy: 1.0000 - val_loss: 0.0924 - learning_rate: 0.0050\n",
      "Epoch 20/50\n",
      "\u001b[1m6/6\u001b[0m \u001b[32m━━━━━━━━━━━━━━━━━━━━\u001b[0m\u001b[37m\u001b[0m \u001b[1m0s\u001b[0m 8ms/step - accuracy: 0.9688 - loss: 0.1221 - val_accuracy: 0.9524 - val_loss: 0.1171 - learning_rate: 0.0050\n",
      "Epoch 21/50\n",
      "\u001b[1m6/6\u001b[0m \u001b[32m━━━━━━━━━━━━━━━━━━━━\u001b[0m\u001b[37m\u001b[0m \u001b[1m0s\u001b[0m 9ms/step - accuracy: 0.9682 - loss: 0.1210 - val_accuracy: 0.9524 - val_loss: 0.1188 - learning_rate: 5.0000e-04\n",
      "Epoch 22/50\n",
      "\u001b[1m6/6\u001b[0m \u001b[32m━━━━━━━━━━━━━━━━━━━━\u001b[0m\u001b[37m\u001b[0m \u001b[1m0s\u001b[0m 7ms/step - accuracy: 0.9788 - loss: 0.1112 - val_accuracy: 0.9524 - val_loss: 0.1155 - learning_rate: 5.0000e-04\n",
      "Epoch 23/50\n",
      "\u001b[1m6/6\u001b[0m \u001b[32m━━━━━━━━━━━━━━━━━━━━\u001b[0m\u001b[37m\u001b[0m \u001b[1m0s\u001b[0m 8ms/step - accuracy: 0.9606 - loss: 0.1248 - val_accuracy: 0.9524 - val_loss: 0.1082 - learning_rate: 5.0000e-04\n",
      "Epoch 24/50\n",
      "\u001b[1m6/6\u001b[0m \u001b[32m━━━━━━━━━━━━━━━━━━━━\u001b[0m\u001b[37m\u001b[0m \u001b[1m0s\u001b[0m 9ms/step - accuracy: 0.9747 - loss: 0.1291 - val_accuracy: 0.9524 - val_loss: 0.1026 - learning_rate: 5.0000e-04\n",
      "Epoch 25/50\n",
      "\u001b[1m6/6\u001b[0m \u001b[32m━━━━━━━━━━━━━━━━━━━━\u001b[0m\u001b[37m\u001b[0m \u001b[1m0s\u001b[0m 8ms/step - accuracy: 0.9688 - loss: 0.1313 - val_accuracy: 1.0000 - val_loss: 0.0993 - learning_rate: 5.0000e-04\n",
      "Epoch 26/50\n",
      "\u001b[1m6/6\u001b[0m \u001b[32m━━━━━━━━━━━━━━━━━━━━\u001b[0m\u001b[37m\u001b[0m \u001b[1m0s\u001b[0m 8ms/step - accuracy: 0.9896 - loss: 0.0974 - val_accuracy: 1.0000 - val_loss: 0.0980 - learning_rate: 5.0000e-04\n",
      "Epoch 27/50\n",
      "\u001b[1m6/6\u001b[0m \u001b[32m━━━━━━━━━━━━━━━━━━━━\u001b[0m\u001b[37m\u001b[0m \u001b[1m0s\u001b[0m 8ms/step - accuracy: 0.9777 - loss: 0.1190 - val_accuracy: 1.0000 - val_loss: 0.0966 - learning_rate: 5.0000e-04\n",
      "Epoch 28/50\n",
      "\u001b[1m6/6\u001b[0m \u001b[32m━━━━━━━━━━━━━━━━━━━━\u001b[0m\u001b[37m\u001b[0m \u001b[1m0s\u001b[0m 8ms/step - accuracy: 0.9728 - loss: 0.1053 - val_accuracy: 1.0000 - val_loss: 0.0956 - learning_rate: 5.0000e-04\n",
      "Epoch 29/50\n",
      "\u001b[1m6/6\u001b[0m \u001b[32m━━━━━━━━━━━━━━━━━━━━\u001b[0m\u001b[37m\u001b[0m \u001b[1m0s\u001b[0m 8ms/step - accuracy: 0.9614 - loss: 0.1342 - val_accuracy: 1.0000 - val_loss: 0.0934 - learning_rate: 5.0000e-04\n",
      "Epoch 30/50\n",
      "\u001b[1m6/6\u001b[0m \u001b[32m━━━━━━━━━━━━━━━━━━━━\u001b[0m\u001b[37m\u001b[0m \u001b[1m0s\u001b[0m 7ms/step - accuracy: 0.9606 - loss: 0.1276 - val_accuracy: 1.0000 - val_loss: 0.0927 - learning_rate: 5.0000e-04\n",
      "Epoch 31/50\n",
      "\u001b[1m6/6\u001b[0m \u001b[32m━━━━━━━━━━━━━━━━━━━━\u001b[0m\u001b[37m\u001b[0m \u001b[1m0s\u001b[0m 8ms/step - accuracy: 0.9450 - loss: 0.1305 - val_accuracy: 1.0000 - val_loss: 0.0934 - learning_rate: 5.0000e-04\n",
      "Epoch 32/50\n",
      "\u001b[1m6/6\u001b[0m \u001b[32m━━━━━━━━━━━━━━━━━━━━\u001b[0m\u001b[37m\u001b[0m \u001b[1m0s\u001b[0m 8ms/step - accuracy: 0.9892 - loss: 0.0994 - val_accuracy: 1.0000 - val_loss: 0.0945 - learning_rate: 5.0000e-04\n",
      "Epoch 33/50\n",
      "\u001b[1m6/6\u001b[0m \u001b[32m━━━━━━━━━━━━━━━━━━━━\u001b[0m\u001b[37m\u001b[0m \u001b[1m0s\u001b[0m 8ms/step - accuracy: 0.9800 - loss: 0.1155 - val_accuracy: 1.0000 - val_loss: 0.0931 - learning_rate: 5.0000e-04\n",
      "Epoch 34/50\n",
      "\u001b[1m6/6\u001b[0m \u001b[32m━━━━━━━━━━━━━━━━━━━━\u001b[0m\u001b[37m\u001b[0m \u001b[1m0s\u001b[0m 7ms/step - accuracy: 0.9822 - loss: 0.1123 - val_accuracy: 1.0000 - val_loss: 0.0936 - learning_rate: 5.0000e-04\n",
      "Epoch 35/50\n",
      "\u001b[1m6/6\u001b[0m \u001b[32m━━━━━━━━━━━━━━━━━━━━\u001b[0m\u001b[37m\u001b[0m \u001b[1m0s\u001b[0m 7ms/step - accuracy: 0.9658 - loss: 0.1223 - val_accuracy: 1.0000 - val_loss: 0.0955 - learning_rate: 5.0000e-04\n",
      "Epoch 36/50\n",
      "\u001b[1m6/6\u001b[0m \u001b[32m━━━━━━━━━━━━━━━━━━━━\u001b[0m\u001b[37m\u001b[0m \u001b[1m0s\u001b[0m 8ms/step - accuracy: 0.9747 - loss: 0.1207 - val_accuracy: 1.0000 - val_loss: 0.0964 - learning_rate: 5.0000e-04\n",
      "Epoch 37/50\n",
      "\u001b[1m6/6\u001b[0m \u001b[32m━━━━━━━━━━━━━━━━━━━━\u001b[0m\u001b[37m\u001b[0m \u001b[1m0s\u001b[0m 9ms/step - accuracy: 0.9788 - loss: 0.1130 - val_accuracy: 1.0000 - val_loss: 0.0971 - learning_rate: 5.0000e-04\n",
      "Epoch 38/50\n",
      "\u001b[1m6/6\u001b[0m \u001b[32m━━━━━━━━━━━━━━━━━━━━\u001b[0m\u001b[37m\u001b[0m \u001b[1m0s\u001b[0m 9ms/step - accuracy: 0.9844 - loss: 0.1103 - val_accuracy: 0.9524 - val_loss: 0.0983 - learning_rate: 5.0000e-04\n",
      "Epoch 39/50\n",
      "\u001b[1m6/6\u001b[0m \u001b[32m━━━━━━━━━━━━━━━━━━━━\u001b[0m\u001b[37m\u001b[0m \u001b[1m0s\u001b[0m 7ms/step - accuracy: 0.9747 - loss: 0.1230 - val_accuracy: 1.0000 - val_loss: 0.0971 - learning_rate: 5.0000e-04\n",
      "Epoch 40/50\n",
      "\u001b[1m6/6\u001b[0m \u001b[32m━━━━━━━━━━━━━━━━━━━━\u001b[0m\u001b[37m\u001b[0m \u001b[1m0s\u001b[0m 8ms/step - accuracy: 0.9658 - loss: 0.1283 - val_accuracy: 0.9524 - val_loss: 0.0983 - learning_rate: 5.0000e-04\n",
      "Epoch 41/50\n",
      "\u001b[1m6/6\u001b[0m \u001b[32m━━━━━━━━━━━━━━━━━━━━\u001b[0m\u001b[37m\u001b[0m \u001b[1m0s\u001b[0m 9ms/step - accuracy: 0.9671 - loss: 0.1257 - val_accuracy: 0.9524 - val_loss: 0.0990 - learning_rate: 5.0000e-04\n",
      "Epoch 42/50\n",
      "\u001b[1m6/6\u001b[0m \u001b[32m━━━━━━━━━━━━━━━━━━━━\u001b[0m\u001b[37m\u001b[0m \u001b[1m0s\u001b[0m 9ms/step - accuracy: 0.9710 - loss: 0.1127 - val_accuracy: 0.9524 - val_loss: 0.0995 - learning_rate: 5.0000e-04\n",
      "Epoch 43/50\n",
      "\u001b[1m6/6\u001b[0m \u001b[32m━━━━━━━━━━━━━━━━━━━━\u001b[0m\u001b[37m\u001b[0m \u001b[1m0s\u001b[0m 10ms/step - accuracy: 0.9708 - loss: 0.1222 - val_accuracy: 0.9524 - val_loss: 0.0981 - learning_rate: 5.0000e-04\n",
      "Epoch 44/50\n",
      "\u001b[1m6/6\u001b[0m \u001b[32m━━━━━━━━━━━━━━━━━━━━\u001b[0m\u001b[37m\u001b[0m \u001b[1m0s\u001b[0m 9ms/step - accuracy: 0.9776 - loss: 0.1172 - val_accuracy: 0.9524 - val_loss: 0.0983 - learning_rate: 5.0000e-04\n",
      "Epoch 45/50\n",
      "\u001b[1m6/6\u001b[0m \u001b[32m━━━━━━━━━━━━━━━━━━━━\u001b[0m\u001b[37m\u001b[0m \u001b[1m0s\u001b[0m 8ms/step - accuracy: 0.9775 - loss: 0.1137 - val_accuracy: 0.9524 - val_loss: 0.0980 - learning_rate: 5.0000e-04\n",
      "Epoch 46/50\n",
      "\u001b[1m6/6\u001b[0m \u001b[32m━━━━━━━━━━━━━━━━━━━━\u001b[0m\u001b[37m\u001b[0m \u001b[1m0s\u001b[0m 9ms/step - accuracy: 0.9777 - loss: 0.1025 - val_accuracy: 0.9524 - val_loss: 0.0977 - learning_rate: 5.0000e-04\n",
      "Epoch 47/50\n",
      "\u001b[1m6/6\u001b[0m \u001b[32m━━━━━━━━━━━━━━━━━━━━\u001b[0m\u001b[37m\u001b[0m \u001b[1m0s\u001b[0m 8ms/step - accuracy: 0.9844 - loss: 0.1127 - val_accuracy: 0.9524 - val_loss: 0.0971 - learning_rate: 5.0000e-04\n",
      "Epoch 48/50\n",
      "\u001b[1m6/6\u001b[0m \u001b[32m━━━━━━━━━━━━━━━━━━━━\u001b[0m\u001b[37m\u001b[0m \u001b[1m0s\u001b[0m 8ms/step - accuracy: 0.9614 - loss: 0.1339 - val_accuracy: 0.9524 - val_loss: 0.0966 - learning_rate: 5.0000e-04\n",
      "Epoch 49/50\n",
      "\u001b[1m6/6\u001b[0m \u001b[32m━━━━━━━━━━━━━━━━━━━━\u001b[0m\u001b[37m\u001b[0m \u001b[1m0s\u001b[0m 8ms/step - accuracy: 0.9865 - loss: 0.1050 - val_accuracy: 0.9524 - val_loss: 0.0972 - learning_rate: 5.0000e-04\n",
      "Epoch 50/50\n",
      "\u001b[1m6/6\u001b[0m \u001b[32m━━━━━━━━━━━━━━━━━━━━\u001b[0m\u001b[37m\u001b[0m \u001b[1m0s\u001b[0m 10ms/step - accuracy: 0.9874 - loss: 0.1128 - val_accuracy: 0.9524 - val_loss: 0.0960 - learning_rate: 5.0000e-04\n",
      "\u001b[1m2/2\u001b[0m \u001b[32m━━━━━━━━━━━━━━━━━━━━\u001b[0m\u001b[37m\u001b[0m \u001b[1m0s\u001b[0m 9ms/step - accuracy: 0.9748 - loss: 0.1214\n",
      "\u001b[1m2/2\u001b[0m \u001b[32m━━━━━━━━━━━━━━━━━━━━\u001b[0m\u001b[37m\u001b[0m \u001b[1m0s\u001b[0m 29ms/step\n",
      "              precision    recall  f1-score   support\n",
      "\n",
      "           0       1.00      1.00      1.00        15\n",
      "           1       0.94      1.00      0.97        15\n",
      "           2       1.00      0.93      0.97        15\n",
      "\n",
      "    accuracy                           0.98        45\n",
      "   macro avg       0.98      0.98      0.98        45\n",
      "weighted avg       0.98      0.98      0.98        45\n",
      "\n"
     ]
    }
   ],
   "source": [
    "history = model.fit(X_train, y_train, epochs=50, batch_size=16, validation_split=0.2,\n",
    "    callbacks=[\n",
    "        tf.keras.callbacks.LearningRateScheduler(const_scheduler)\n",
    "    ])\n",
    "\n",
    "test_loss, test_accuracy = model.evaluate(X_test, y_test)\n",
    "print(classification_report(y_test, model.predict(X_test).argmax(axis=1)))"
   ]
  },
  {
   "cell_type": "raw",
   "id": "b34a55f8-b289-4d12-93bf-73b7f6829304",
   "metadata": {},
   "source": [
    "#### Pierwszy model wytrenowany!!! "
   ]
  }
 ],
 "metadata": {
  "kernelspec": {
   "display_name": "Python 3 (ipykernel)",
   "language": "python",
   "name": "python3"
  },
  "language_info": {
   "codemirror_mode": {
    "name": "ipython",
    "version": 3
   },
   "file_extension": ".py",
   "mimetype": "text/x-python",
   "name": "python",
   "nbconvert_exporter": "python",
   "pygments_lexer": "ipython3",
   "version": "3.12.7"
  }
 },
 "nbformat": 4,
 "nbformat_minor": 5
}
